{
  "nbformat": 4,
  "nbformat_minor": 0,
  "metadata": {
    "colab": {
      "name": "spam_ham_ML.ipynb",
      "provenance": [],
      "collapsed_sections": [],
      "authorship_tag": "ABX9TyPUF/FlcBcy4qO11celKFOl",
      "include_colab_link": true
    },
    "kernelspec": {
      "name": "python3",
      "display_name": "Python 3"
    },
    "language_info": {
      "name": "python"
    }
  },
  "cells": [
    {
      "cell_type": "markdown",
      "metadata": {
        "id": "view-in-github",
        "colab_type": "text"
      },
      "source": [
        "<a href=\"https://colab.research.google.com/github/XeroArk/spam_detect_ML/blob/main/spam_ham_ML.ipynb\" target=\"_parent\"><img src=\"https://colab.research.google.com/assets/colab-badge.svg\" alt=\"Open In Colab\"/></a>"
      ]
    },
    {
      "cell_type": "markdown",
      "source": [
        "Importing Dependencies"
      ],
      "metadata": {
        "id": "yTdE7qPPz2rT"
      }
    },
    {
      "cell_type": "code",
      "execution_count": 1,
      "metadata": {
        "id": "n2-1cxPHz0FH"
      },
      "outputs": [],
      "source": [
        "import numpy as np\n",
        "import pandas as pd\n",
        "from sklearn.model_selection import train_test_split\n",
        "from sklearn.feature_extraction.text import TfidfVectorizer\n",
        "from sklearn.linear_model import LogisticRegression\n",
        "from sklearn.metrics import accuracy_score"
      ]
    },
    {
      "cell_type": "markdown",
      "source": [
        "Collection and Pre-processing"
      ],
      "metadata": {
        "id": "1egSV5iL0Q_G"
      }
    },
    {
      "cell_type": "code",
      "source": [
        "#Dataset from kaggle\n",
        "raw_mail_data = pd.read_csv('/content/spam_ham_dataset.csv')"
      ],
      "metadata": {
        "id": "L4PpT2fx0W02"
      },
      "execution_count": 2,
      "outputs": []
    },
    {
      "cell_type": "code",
      "source": [
        "# to handle missing columns replace the null values with a null string\n",
        "mail_data = raw_mail_data.where((pd.notnull(raw_mail_data)),'')"
      ],
      "metadata": {
        "id": "9YWMKc9T0gFk"
      },
      "execution_count": 3,
      "outputs": []
    },
    {
      "cell_type": "code",
      "source": [
        "mail_data.drop(mail_data.columns[0],axis=1, inplace=True)\n",
        "mail_data.drop(columns='label_num', axis=1, inplace = True)\n",
        "print(mail_data)"
      ],
      "metadata": {
        "colab": {
          "base_uri": "https://localhost:8080/"
        },
        "id": "Yo6KGpv5_hn-",
        "outputId": "d82203ee-1dc1-4ac6-9b24-7d12ccd67793"
      },
      "execution_count": 4,
      "outputs": [
        {
          "output_type": "stream",
          "name": "stdout",
          "text": [
            "     label                                               text\n",
            "0      ham  Subject: enron methanol ; meter # : 988291\\r\\n...\n",
            "1      ham  Subject: hpl nom for january 9 , 2001\\r\\n( see...\n",
            "2      ham  Subject: neon retreat\\r\\nho ho ho , we ' re ar...\n",
            "3     spam  Subject: photoshop , windows , office . cheap ...\n",
            "4      ham  Subject: re : indian springs\\r\\nthis deal is t...\n",
            "...    ...                                                ...\n",
            "5166   ham  Subject: put the 10 on the ft\\r\\nthe transport...\n",
            "5167   ham  Subject: 3 / 4 / 2000 and following noms\\r\\nhp...\n",
            "5168   ham  Subject: calpine daily gas nomination\\r\\n>\\r\\n...\n",
            "5169   ham  Subject: industrial worksheets for august 2000...\n",
            "5170  spam  Subject: important online banking alert\\r\\ndea...\n",
            "\n",
            "[5171 rows x 2 columns]\n"
          ]
        }
      ]
    },
    {
      "cell_type": "markdown",
      "source": [
        "Encoding labels"
      ],
      "metadata": {
        "id": "7MuP8-ed__Oc"
      }
    },
    {
      "cell_type": "code",
      "source": [
        "# spam mail = 0;  ham mail = 1;\n",
        "\n",
        "mail_data.replace({'label':{'spam':0,'ham':1}}, inplace=True)"
      ],
      "metadata": {
        "id": "rh-13lg6_i4w"
      },
      "execution_count": 7,
      "outputs": []
    },
    {
      "cell_type": "code",
      "source": [
        "# separating the data as texts and label\n",
        "\n",
        "X = mail_data['text']\n",
        "\n",
        "Y = mail_data['label']"
      ],
      "metadata": {
        "id": "CUhkr7HRA0-F"
      },
      "execution_count": 8,
      "outputs": []
    },
    {
      "cell_type": "code",
      "source": [
        "print(X)"
      ],
      "metadata": {
        "colab": {
          "base_uri": "https://localhost:8080/"
        },
        "id": "RujxCpKwBHDu",
        "outputId": "7dc8ec12-0076-41e7-ec0d-583058fd1f46"
      },
      "execution_count": 9,
      "outputs": [
        {
          "output_type": "stream",
          "name": "stdout",
          "text": [
            "0       Subject: enron methanol ; meter # : 988291\\r\\n...\n",
            "1       Subject: hpl nom for january 9 , 2001\\r\\n( see...\n",
            "2       Subject: neon retreat\\r\\nho ho ho , we ' re ar...\n",
            "3       Subject: photoshop , windows , office . cheap ...\n",
            "4       Subject: re : indian springs\\r\\nthis deal is t...\n",
            "                              ...                        \n",
            "5166    Subject: put the 10 on the ft\\r\\nthe transport...\n",
            "5167    Subject: 3 / 4 / 2000 and following noms\\r\\nhp...\n",
            "5168    Subject: calpine daily gas nomination\\r\\n>\\r\\n...\n",
            "5169    Subject: industrial worksheets for august 2000...\n",
            "5170    Subject: important online banking alert\\r\\ndea...\n",
            "Name: text, Length: 5171, dtype: object\n"
          ]
        }
      ]
    },
    {
      "cell_type": "code",
      "source": [
        "print(Y)"
      ],
      "metadata": {
        "colab": {
          "base_uri": "https://localhost:8080/"
        },
        "id": "fxNGx6TEBK-_",
        "outputId": "bb49b6bf-7354-46a1-f296-e65986754919"
      },
      "execution_count": 10,
      "outputs": [
        {
          "output_type": "stream",
          "name": "stdout",
          "text": [
            "0       1\n",
            "1       1\n",
            "2       1\n",
            "3       0\n",
            "4       1\n",
            "       ..\n",
            "5166    1\n",
            "5167    1\n",
            "5168    1\n",
            "5169    1\n",
            "5170    0\n",
            "Name: label, Length: 5171, dtype: int64\n"
          ]
        }
      ]
    },
    {
      "cell_type": "markdown",
      "source": [
        "Test Train splitting of data"
      ],
      "metadata": {
        "id": "92TpP8CKBTHF"
      }
    },
    {
      "cell_type": "code",
      "source": [
        "X_train, X_test, Y_train, Y_test = train_test_split(X, Y, test_size=0.1, random_state=2)"
      ],
      "metadata": {
        "id": "BCmikjfEBQHC"
      },
      "execution_count": 11,
      "outputs": []
    },
    {
      "cell_type": "code",
      "source": [
        "print(X.shape)\n",
        "print(X_train.shape)\n",
        "print(X_test.shape)"
      ],
      "metadata": {
        "colab": {
          "base_uri": "https://localhost:8080/"
        },
        "id": "rqKVMNeFBjHm",
        "outputId": "c57cb8f0-a4a6-4a9e-aabe-846ac3fe45fc"
      },
      "execution_count": 12,
      "outputs": [
        {
          "output_type": "stream",
          "name": "stdout",
          "text": [
            "(5171,)\n",
            "(4653,)\n",
            "(518,)\n"
          ]
        }
      ]
    },
    {
      "cell_type": "code",
      "source": [
        "# text data to feature vectors that can be used as input to the Logistic regression\n",
        "\n",
        "feature_extraction = TfidfVectorizer(min_df = 1, stop_words='english', lowercase='True')\n",
        "\n",
        "X_train_features = feature_extraction.fit_transform(X_train)\n",
        "X_test_features = feature_extraction.transform(X_test)\n",
        "\n",
        "# convert Y_train and Y_test values as integers\n",
        "\n",
        "Y_train = Y_train.astype('int')\n",
        "Y_test = Y_test.astype('int')"
      ],
      "metadata": {
        "id": "UKVTN6g9BnSo"
      },
      "execution_count": 13,
      "outputs": []
    },
    {
      "cell_type": "code",
      "source": [
        "print(X_train)"
      ],
      "metadata": {
        "colab": {
          "base_uri": "https://localhost:8080/"
        },
        "id": "MrRqgOA_CwWw",
        "outputId": "f41d61bd-919e-4604-e44a-df6cd22dbfc6"
      },
      "execution_count": 14,
      "outputs": [
        {
          "output_type": "stream",
          "name": "stdout",
          "text": [
            "4113    Subject: meter 5961 , dunagan , j . a . # 1\\r\\...\n",
            "1894    Subject: tenaska gas management agreement\\r\\nd...\n",
            "688     Subject: online shopping . get it quickly and ...\n",
            "887     Subject: follow up 1 / 2 day off - site\\r\\nple...\n",
            "537     Subject: 52 - quick loan application\\r\\nhey\\r\\...\n",
            "                              ...                        \n",
            "3335    Subject: \\r\\nto _ cc _ default _ handler\\r\\nsu...\n",
            "1099    Subject: s 709101 - 04 / 03 / 01\\r\\ndaren , bp...\n",
            "2514    Subject: viagra _ cialis _ levitra _ ambien _ ...\n",
            "3606    Subject: panenergy marketing march 2000 produc...\n",
            "2575    Subject: important information about united he...\n",
            "Name: text, Length: 4653, dtype: object\n"
          ]
        }
      ]
    },
    {
      "cell_type": "code",
      "source": [
        "print(X_train_features)"
      ],
      "metadata": {
        "colab": {
          "base_uri": "https://localhost:8080/"
        },
        "id": "p1TEEncwC5Xw",
        "outputId": "c8bd7d51-e418-45aa-b455-963c89861560"
      },
      "execution_count": 15,
      "outputs": [
        {
          "output_type": "stream",
          "name": "stdout",
          "text": [
            "  (0, 11364)\t0.2459282173456063\n",
            "  (0, 42384)\t0.09830280433722623\n",
            "  (0, 24356)\t0.13258909300609165\n",
            "  (0, 26462)\t0.10908338498243615\n",
            "  (0, 27294)\t0.11762971248040689\n",
            "  (0, 0)\t0.1249558272522672\n",
            "  (0, 417)\t0.12783571264713556\n",
            "  (0, 19674)\t0.15137219676415942\n",
            "  (0, 14587)\t0.2647358968122648\n",
            "  (0, 3336)\t0.27378895377877893\n",
            "  (0, 31305)\t0.13843758412831808\n",
            "  (0, 1138)\t0.24200858502434347\n",
            "  (0, 15800)\t0.3596352879431819\n",
            "  (0, 24360)\t0.23056043333587414\n",
            "  (0, 14482)\t0.11228300884723683\n",
            "  (0, 16690)\t0.3771052569185167\n",
            "  (0, 2783)\t0.3596352879431819\n",
            "  (0, 29377)\t0.3746818984730705\n",
            "  (0, 41166)\t0.043086244971477235\n",
            "  (1, 19154)\t0.281374161286773\n",
            "  (1, 24506)\t0.24469349680022326\n",
            "  (1, 30103)\t0.1307657299834488\n",
            "  (1, 34921)\t0.32393810628690406\n",
            "  (1, 23251)\t0.19396044422238184\n",
            "  (1, 36498)\t0.21543563660130377\n",
            "  :\t:\n",
            "  (4652, 32102)\t0.042482202428627686\n",
            "  (4652, 4856)\t0.03104585706634563\n",
            "  (4652, 24096)\t0.02916373947396463\n",
            "  (4652, 7160)\t0.03323636115480906\n",
            "  (4652, 38961)\t0.052553837670421766\n",
            "  (4652, 14196)\t0.028353632286975246\n",
            "  (4652, 17173)\t0.035416427071866645\n",
            "  (4652, 34922)\t0.026675287060824622\n",
            "  (4652, 41407)\t0.028865791149288045\n",
            "  (4652, 31559)\t0.046254268424223956\n",
            "  (4652, 34756)\t0.033534309479485644\n",
            "  (4652, 13208)\t0.0868025349281812\n",
            "  (4652, 23182)\t0.0748427854139731\n",
            "  (4652, 251)\t0.016232564479670624\n",
            "  (4652, 13197)\t0.03854666005240763\n",
            "  (4652, 1043)\t0.017891456299888857\n",
            "  (4652, 36939)\t0.026849000517690316\n",
            "  (4652, 3260)\t0.024422883069232168\n",
            "  (4652, 17769)\t0.07113482687469845\n",
            "  (4652, 30869)\t0.03430703270720496\n",
            "  (4652, 42691)\t0.05760408023703545\n",
            "  (4652, 19905)\t0.02986207109014056\n",
            "  (4652, 40157)\t0.027635856215761735\n",
            "  (4652, 24356)\t0.01940357587935502\n",
            "  (4652, 41166)\t0.006305399672823214\n"
          ]
        }
      ]
    },
    {
      "cell_type": "markdown",
      "source": [
        "Logistic Regression"
      ],
      "metadata": {
        "id": "o4oI2p7lDO8j"
      }
    },
    {
      "cell_type": "code",
      "source": [
        "model = LogisticRegression()"
      ],
      "metadata": {
        "id": "_aFb01wrDN5b"
      },
      "execution_count": 16,
      "outputs": []
    },
    {
      "cell_type": "code",
      "source": [
        "# training the Logistic Regression model\n",
        "model.fit(X_train_features, Y_train)"
      ],
      "metadata": {
        "colab": {
          "base_uri": "https://localhost:8080/"
        },
        "id": "beR3sLEvDYZF",
        "outputId": "15517914-ae38-4715-8639-28a8cfeccb78"
      },
      "execution_count": 18,
      "outputs": [
        {
          "output_type": "execute_result",
          "data": {
            "text/plain": [
              "LogisticRegression()"
            ]
          },
          "metadata": {},
          "execution_count": 18
        }
      ]
    },
    {
      "cell_type": "code",
      "source": [
        "# prediction on training data\n",
        "\n",
        "prediction_on_training_data = model.predict(X_train_features)\n",
        "accuracy_on_training_data = accuracy_score(Y_train, prediction_on_training_data)"
      ],
      "metadata": {
        "id": "Sin9oX1CDjd8"
      },
      "execution_count": 19,
      "outputs": []
    },
    {
      "cell_type": "code",
      "source": [
        "print('Accuracy on training data : ', accuracy_on_training_data)"
      ],
      "metadata": {
        "colab": {
          "base_uri": "https://localhost:8080/"
        },
        "id": "Hwfdqe4vDxmD",
        "outputId": "8b01a5ed-dfa7-4b80-9a38-305a8727394f"
      },
      "execution_count": 20,
      "outputs": [
        {
          "output_type": "stream",
          "name": "stdout",
          "text": [
            "Accuracy on training data :  0.9961315280464217\n"
          ]
        }
      ]
    },
    {
      "cell_type": "code",
      "source": [
        "prediction_on_test_data = model.predict(X_test_features)\n",
        "accuracy_on_test_data = accuracy_score(Y_test, prediction_on_test_data)"
      ],
      "metadata": {
        "id": "xDhwEgN4D2Au"
      },
      "execution_count": 21,
      "outputs": []
    },
    {
      "cell_type": "code",
      "source": [
        "print('Accuracy on test data : ', accuracy_on_test_data)"
      ],
      "metadata": {
        "colab": {
          "base_uri": "https://localhost:8080/"
        },
        "id": "osbS8ufgD8b4",
        "outputId": "d8ce6c34-5f5d-4e1e-c979-010ad5c9aab3"
      },
      "execution_count": 22,
      "outputs": [
        {
          "output_type": "stream",
          "name": "stdout",
          "text": [
            "Accuracy on test data :  0.9864864864864865\n"
          ]
        }
      ]
    },
    {
      "cell_type": "code",
      "source": [
        "input_mail = [\"Important meeting\"]\n",
        "\n",
        "# convert text to feature vectors\n",
        "input_data_features = feature_extraction.transform(input_mail)\n",
        "\n",
        "# making prediction\n",
        "\n",
        "prediction = model.predict(input_data_features)\n",
        "print(prediction)\n",
        "\n",
        "\n",
        "if (prediction[0]==1):\n",
        "  print('Ham mail')\n",
        "\n",
        "else:\n",
        "  print('Spam mail')"
      ],
      "metadata": {
        "colab": {
          "base_uri": "https://localhost:8080/"
        },
        "id": "KAZWMRghEETa",
        "outputId": "98544f06-daf7-46b1-e268-afea7bfe955a"
      },
      "execution_count": 27,
      "outputs": [
        {
          "output_type": "stream",
          "name": "stdout",
          "text": [
            "[1]\n",
            "Ham mail\n"
          ]
        }
      ]
    }
  ]
}